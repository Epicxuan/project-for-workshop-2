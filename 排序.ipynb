{
 "cells": [
  {
   "cell_type": "code",
   "execution_count": 22,
   "metadata": {},
   "outputs": [
    {
     "name": "stdout",
     "output_type": "stream",
     "text": [
      "done\n"
     ]
    }
   ],
   "source": [
    "import openpyxl\n",
    "import xlrd\n",
    "import re\n",
    "from itertools import groupby\n",
    "from numpy  import * \n",
    "import numpy as np\n",
    "import csv\n",
    "xl = open(\"testresult.txt\")\n",
    "line = xl.readline()\n",
    "line = line.rstrip(\"\\n\")\n",
    "rslt = line.split(\":\") \n",
    "result3=[]\n",
    "stra=\".txt\"\n",
    "with open(\"ranked.csv\",\"w\") as csvfile:\n",
    "    writer = csv.writer(csvfile,lineterminator='\\n')\n",
    "    while line:             \n",
    "        rslt= line.split(\"\\t\") \n",
    "        Num  =len(rslt)\n",
    "        rslt2=[]\n",
    "        for i in range(1,Num):\n",
    "            rslt2.append(rslt[i].split(\":\"))\n",
    "        line = xl.readline()  \n",
    "        line = line.rstrip(\"\\n\")\n",
    "        rslt2.sort(key=lambda rslt2: rslt2[0],reverse=True)\n",
    "        rslt3=[]\n",
    "        rslt3.append(rslt[0])\n",
    "        for i in range(0,Num-1):\n",
    "            rslt2[i][1]=rslt2[i][1].replace(\".txt\",\"\") #delete txt\n",
    "            rslt3.append(rslt2[i][1])\n",
    "        writer.writerow(rslt3)\n",
    "       # writer.writerow(rslt2)\n",
    "   # for var in rslt2:\n",
    "        #writer.writerow(var)\n",
    "print(\"done\")"
   ]
  },
  {
   "cell_type": "code",
   "execution_count": null,
   "metadata": {},
   "outputs": [],
   "source": []
  },
  {
   "cell_type": "code",
   "execution_count": null,
   "metadata": {},
   "outputs": [],
   "source": []
  }
 ],
 "metadata": {
  "kernelspec": {
   "display_name": "Python 3",
   "language": "python",
   "name": "python3"
  },
  "language_info": {
   "codemirror_mode": {
    "name": "ipython",
    "version": 3
   },
   "file_extension": ".py",
   "mimetype": "text/x-python",
   "name": "python",
   "nbconvert_exporter": "python",
   "pygments_lexer": "ipython3",
   "version": "3.7.3"
  }
 },
 "nbformat": 4,
 "nbformat_minor": 2
}
